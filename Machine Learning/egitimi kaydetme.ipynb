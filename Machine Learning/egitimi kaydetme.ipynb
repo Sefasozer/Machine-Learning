{
 "cells": [
  {
   "cell_type": "code",
   "execution_count": 1,
   "id": "9cb464de",
   "metadata": {},
   "outputs": [],
   "source": [
    "#Kütüphaneler\n",
    "import numpy as np\n",
    "import pandas as pd\n",
    "import matplotlib.pyplot as plt"
   ]
  },
  {
   "cell_type": "code",
   "execution_count": 5,
   "id": "4b64c6cb",
   "metadata": {},
   "outputs": [],
   "source": [
    "#Veriyi çekiyoruz\n",
    "Data1=pd.read_excel(\"satislar.xlsx\")"
   ]
  },
  {
   "cell_type": "code",
   "execution_count": 7,
   "id": "616b83c5",
   "metadata": {},
   "outputs": [],
   "source": [
    "#Öğrenecek kolonları ve sonuc kolonunu oluşturuyoruz.\n",
    "X=Data1.iloc[:,0:1].values\n",
    "Y=Data1.iloc[:,1].values"
   ]
  },
  {
   "cell_type": "code",
   "execution_count": 10,
   "id": "1a4e1c43",
   "metadata": {},
   "outputs": [],
   "source": [
    "#Verileri train ve test verileri olarak ayırıyoruz.\n",
    "from sklearn.model_selection import train_test_split"
   ]
  },
  {
   "cell_type": "code",
   "execution_count": 11,
   "id": "02376147",
   "metadata": {},
   "outputs": [],
   "source": [
    "x_train,x_test,y_train,y_test=train_test_split(X,Y,test_size=0.33,random_state=0)"
   ]
  },
  {
   "cell_type": "code",
   "execution_count": 12,
   "id": "0c58e7d9",
   "metadata": {},
   "outputs": [],
   "source": [
    "#Linear Regresyon\n",
    "from sklearn.linear_model import LinearRegression"
   ]
  },
  {
   "cell_type": "code",
   "execution_count": 13,
   "id": "673d37ca",
   "metadata": {},
   "outputs": [
    {
     "data": {
      "text/plain": [
       "LinearRegression()"
      ]
     },
     "execution_count": 13,
     "metadata": {},
     "output_type": "execute_result"
    }
   ],
   "source": [
    "lr=LinearRegression()\n",
    "lr.fit(x_train,y_train)"
   ]
  },
  {
   "cell_type": "code",
   "execution_count": 14,
   "id": "0cf8d1c6",
   "metadata": {},
   "outputs": [],
   "source": [
    "import pickle"
   ]
  },
  {
   "cell_type": "code",
   "execution_count": 15,
   "id": "14c28d9e",
   "metadata": {},
   "outputs": [],
   "source": [
    "#Dosya oluşrurup öğrenme modelini kaydetiyoruz\n",
    "dosya=\"model_kayit\"\n",
    "pickle.dump(lr,open(dosya,\"wb\"))"
   ]
  },
  {
   "cell_type": "code",
   "execution_count": 16,
   "id": "55c5a33f",
   "metadata": {},
   "outputs": [],
   "source": [
    "#Ogrenme modelini kaydetiğimiz dosyadan böyle alabiliyoruz\n",
    "yuklenen=pickle.load(open(dosya,\"rb\"))"
   ]
  },
  {
   "cell_type": "code",
   "execution_count": 17,
   "id": "0d3d77a3",
   "metadata": {},
   "outputs": [],
   "source": [
    "Tahmin=yuklenen.predict(x_test)"
   ]
  },
  {
   "cell_type": "code",
   "execution_count": 19,
   "id": "9f796965",
   "metadata": {},
   "outputs": [
    {
     "data": {
      "text/plain": [
       "array([229748.3953765 , 125232.97532546, 200168.559513  , 202140.54857056,\n",
       "       135092.9206133 , 144952.86590113, 135092.9206133 , 202140.54857056,\n",
       "       184392.64705246, 154812.81118896])"
      ]
     },
     "execution_count": 19,
     "metadata": {},
     "output_type": "execute_result"
    }
   ],
   "source": [
    "Tahmin"
   ]
  },
  {
   "cell_type": "code",
   "execution_count": 20,
   "id": "d25853fe",
   "metadata": {},
   "outputs": [
    {
     "data": {
      "text/plain": [
       "array([188655, 611955, 285405,  31609, 584845, 547155, 563175,  27897,\n",
       "        41544,  50651], dtype=int64)"
      ]
     },
     "execution_count": 20,
     "metadata": {},
     "output_type": "execute_result"
    }
   ],
   "source": [
    "y_test"
   ]
  },
  {
   "cell_type": "code",
   "execution_count": null,
   "id": "abfa8c39",
   "metadata": {},
   "outputs": [],
   "source": []
  }
 ],
 "metadata": {
  "kernelspec": {
   "display_name": "Python 3 (ipykernel)",
   "language": "python",
   "name": "python3"
  },
  "language_info": {
   "codemirror_mode": {
    "name": "ipython",
    "version": 3
   },
   "file_extension": ".py",
   "mimetype": "text/x-python",
   "name": "python",
   "nbconvert_exporter": "python",
   "pygments_lexer": "ipython3",
   "version": "3.9.7"
  }
 },
 "nbformat": 4,
 "nbformat_minor": 5
}
