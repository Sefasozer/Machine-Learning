{
 "cells": [
  {
   "cell_type": "code",
   "execution_count": 4,
   "id": "5c31219a",
   "metadata": {},
   "outputs": [],
   "source": [
    "#Kütüphanelerle basliyoruz\n",
    "import pandas as pd\n",
    "import numpy as np\n",
    "import matplotlib.pyplot as plt"
   ]
  },
  {
   "cell_type": "code",
   "execution_count": 5,
   "id": "8b652ddb",
   "metadata": {},
   "outputs": [],
   "source": [
    "#Veriyi cekiyoruz\n",
    "Data1=pd.read_excel(\"maaslar.xlsx\")"
   ]
  },
  {
   "cell_type": "code",
   "execution_count": 6,
   "id": "468e0457",
   "metadata": {},
   "outputs": [
    {
     "data": {
      "text/html": [
       "<div>\n",
       "<style scoped>\n",
       "    .dataframe tbody tr th:only-of-type {\n",
       "        vertical-align: middle;\n",
       "    }\n",
       "\n",
       "    .dataframe tbody tr th {\n",
       "        vertical-align: top;\n",
       "    }\n",
       "\n",
       "    .dataframe thead th {\n",
       "        text-align: right;\n",
       "    }\n",
       "</style>\n",
       "<table border=\"1\" class=\"dataframe\">\n",
       "  <thead>\n",
       "    <tr style=\"text-align: right;\">\n",
       "      <th></th>\n",
       "      <th>unvan</th>\n",
       "      <th>Egitim Seviyesi</th>\n",
       "      <th>maas</th>\n",
       "    </tr>\n",
       "  </thead>\n",
       "  <tbody>\n",
       "    <tr>\n",
       "      <th>0</th>\n",
       "      <td>Cayci</td>\n",
       "      <td>1</td>\n",
       "      <td>2250</td>\n",
       "    </tr>\n",
       "    <tr>\n",
       "      <th>1</th>\n",
       "      <td>Sekreter</td>\n",
       "      <td>2</td>\n",
       "      <td>2500</td>\n",
       "    </tr>\n",
       "    <tr>\n",
       "      <th>2</th>\n",
       "      <td>Uzman Yardimcisi</td>\n",
       "      <td>3</td>\n",
       "      <td>3000</td>\n",
       "    </tr>\n",
       "    <tr>\n",
       "      <th>3</th>\n",
       "      <td>Uzman</td>\n",
       "      <td>4</td>\n",
       "      <td>4000</td>\n",
       "    </tr>\n",
       "    <tr>\n",
       "      <th>4</th>\n",
       "      <td>Proje Yoneticisi</td>\n",
       "      <td>5</td>\n",
       "      <td>5500</td>\n",
       "    </tr>\n",
       "    <tr>\n",
       "      <th>5</th>\n",
       "      <td>Sef</td>\n",
       "      <td>6</td>\n",
       "      <td>7500</td>\n",
       "    </tr>\n",
       "    <tr>\n",
       "      <th>6</th>\n",
       "      <td>Mudur</td>\n",
       "      <td>7</td>\n",
       "      <td>10000</td>\n",
       "    </tr>\n",
       "    <tr>\n",
       "      <th>7</th>\n",
       "      <td>Direktor</td>\n",
       "      <td>8</td>\n",
       "      <td>15000</td>\n",
       "    </tr>\n",
       "    <tr>\n",
       "      <th>8</th>\n",
       "      <td>C-level</td>\n",
       "      <td>9</td>\n",
       "      <td>25000</td>\n",
       "    </tr>\n",
       "    <tr>\n",
       "      <th>9</th>\n",
       "      <td>CEO</td>\n",
       "      <td>10</td>\n",
       "      <td>50000</td>\n",
       "    </tr>\n",
       "  </tbody>\n",
       "</table>\n",
       "</div>"
      ],
      "text/plain": [
       "              unvan  Egitim Seviyesi   maas\n",
       "0             Cayci                1   2250\n",
       "1          Sekreter                2   2500\n",
       "2  Uzman Yardimcisi                3   3000\n",
       "3             Uzman                4   4000\n",
       "4  Proje Yoneticisi                5   5500\n",
       "5               Sef                6   7500\n",
       "6             Mudur                7  10000\n",
       "7          Direktor                8  15000\n",
       "8           C-level                9  25000\n",
       "9               CEO               10  50000"
      ]
     },
     "execution_count": 6,
     "metadata": {},
     "output_type": "execute_result"
    }
   ],
   "source": [
    "Data1\n"
   ]
  },
  {
   "cell_type": "code",
   "execution_count": 7,
   "id": "0f394d67",
   "metadata": {},
   "outputs": [],
   "source": [
    "#Egitim seviyesi yazdığı için ünvanı almıyoruz.\n",
    "x=Data1.iloc[:,1:2].values\n",
    "y=Data1.iloc[:,2:3].values"
   ]
  },
  {
   "cell_type": "code",
   "execution_count": 8,
   "id": "82c28413",
   "metadata": {},
   "outputs": [],
   "source": [
    "#Regresyon modelerini görseleştirerek daha iyi kavramaya calisiyoruz\n",
    "from sklearn.linear_model import LinearRegression"
   ]
  },
  {
   "cell_type": "code",
   "execution_count": 9,
   "id": "f49adfd5",
   "metadata": {},
   "outputs": [
    {
     "data": {
      "text/plain": [
       "[<matplotlib.lines.Line2D at 0x20d54ffcb50>]"
      ]
     },
     "execution_count": 9,
     "metadata": {},
     "output_type": "execute_result"
    },
    {
     "data": {
      "image/png": "[encoded data removed]",
      "text/plain": [
       "<Figure size 432x288 with 1 Axes>"
      ]
     },
     "metadata": {
      "needs_background": "light"
     },
     "output_type": "display_data"
    }
   ],
   "source": [
    "#veriyi görselestiriyoruz..\n",
    "lin_reg=LinearRegression()\n",
    "lin_reg.fit(x,y)\n",
    "plt.scatter(x,y)\n",
    "plt.plot(x,lin_reg.predict(x),color=\"red\")"
   ]
  },
  {
   "cell_type": "code",
   "execution_count": 10,
   "id": "c672c9e3",
   "metadata": {},
   "outputs": [],
   "source": [
    "from sklearn.preprocessing import PolynomialFeatures"
   ]
  },
  {
   "cell_type": "code",
   "execution_count": 11,
   "id": "b6251e48",
   "metadata": {},
   "outputs": [
    {
     "data": {
      "text/plain": [
       "[<matplotlib.lines.Line2D at 0x20d5510f6d0>]"
      ]
     },
     "execution_count": 11,
     "metadata": {},
     "output_type": "execute_result"
    },
    {
     "data": {
      "image/png": "[encoded data removed]",
      "text/plain": [
       "<Figure size 432x288 with 1 Axes>"
      ]
     },
     "metadata": {
      "needs_background": "light"
     },
     "output_type": "display_data"
    }
   ],
   "source": [
    "lin_poly=PolynomialFeatures(degree=2)#degree yi atirarak regresyon cizgisini daha çok bükebiliriz\n",
    "X=lin_poly.fit_transform(x)\n",
    "lin_reg2=LinearRegression()\n",
    "lin_reg2.fit(X,y)\n",
    "plt.scatter(x,y)\n",
    "plt.plot(x,lin_reg2.predict(X),\"red\")"
   ]
  },
  {
   "cell_type": "code",
   "execution_count": 12,
   "id": "295895fa",
   "metadata": {},
   "outputs": [
    {
     "data": {
      "text/plain": [
       "[<matplotlib.lines.Line2D at 0x20d55184370>]"
      ]
     },
     "execution_count": 12,
     "metadata": {},
     "output_type": "execute_result"
    },
    {
     "data": {
      "image/png": "[encoded data removed]",
      "text/plain": [
       "<Figure size 432x288 with 1 Axes>"
      ]
     },
     "metadata": {
      "needs_background": "light"
     },
     "output_type": "display_data"
    }
   ],
   "source": [
    "lin_poly2=PolynomialFeatures(degree=4)\n",
    "X=lin_poly2.fit_transform(x)\n",
    "lin_reg2=LinearRegression()\n",
    "lin_reg2.fit(X,y)\n",
    "plt.scatter(x,y)\n",
    "plt.plot(x,lin_reg2.predict(X),\"red\")"
   ]
  },
  {
   "cell_type": "code",
   "execution_count": 13,
   "id": "c6a26fff",
   "metadata": {},
   "outputs": [
    {
     "name": "stdout",
     "output_type": "stream",
     "text": [
      "[[18540.90909091]]\n",
      "[[31885.90909091]]\n"
     ]
    }
   ],
   "source": [
    "#linear\n",
    "print(lin_reg.predict([[7]]))\n",
    "print(lin_reg.predict([[10.3]]))"
   ]
  },
  {
   "cell_type": "code",
   "execution_count": 14,
   "id": "1b0d2c55",
   "metadata": {},
   "outputs": [
    {
     "name": "stdout",
     "output_type": "stream",
     "text": [
      "[[9200.17482517]]\n",
      "[[59304.56593093]]\n"
     ]
    }
   ],
   "source": [
    "#poly\n",
    "print(lin_reg2.predict(lin_poly2.fit_transform([[7]])))\n",
    "print(lin_reg2.predict(lin_poly2.fit_transform([[10.3]])))"
   ]
  },
  {
   "cell_type": "code",
   "execution_count": 15,
   "id": "b7686840",
   "metadata": {},
   "outputs": [],
   "source": [
    "from sklearn.preprocessing import StandardScaler"
   ]
  },
  {
   "cell_type": "code",
   "execution_count": 16,
   "id": "7d45b69e",
   "metadata": {},
   "outputs": [],
   "source": [
    "kucultme=StandardScaler()\n",
    "x_scaler=kucultme.fit_transform(x)\n",
    "y_scaler=kucultme.fit_transform(y)"
   ]
  },
  {
   "cell_type": "code",
   "execution_count": 17,
   "id": "722a4266",
   "metadata": {},
   "outputs": [],
   "source": [
    "#SVR modelini kulanmak icin üsteki scaler islemini yapmaniz lazım\n",
    "from sklearn.svm import SVR"
   ]
  },
  {
   "cell_type": "code",
   "execution_count": 18,
   "id": "612223fa",
   "metadata": {},
   "outputs": [
    {
     "name": "stderr",
     "output_type": "stream",
     "text": [
      "C:\\ProgramData\\Anaconda3\\lib\\site-packages\\sklearn\\utils\\validation.py:63: DataConversionWarning: A column-vector y was passed when a 1d array was expected. Please change the shape of y to (n_samples, ), for example using ravel().\n",
      "  return f(*args, **kwargs)\n"
     ]
    },
    {
     "data": {
      "text/plain": [
       "SVR()"
      ]
     },
     "execution_count": 18,
     "metadata": {},
     "output_type": "execute_result"
    }
   ],
   "source": [
    "svr=SVR(kernel=\"rbf\")\n",
    "svr.fit(x_scaler,y_scaler)"
   ]
  },
  {
   "cell_type": "code",
   "execution_count": 19,
   "id": "62023cbe",
   "metadata": {},
   "outputs": [
    {
     "data": {
      "text/plain": [
       "[<matplotlib.lines.Line2D at 0x20d551ed1f0>]"
      ]
     },
     "execution_count": 19,
     "metadata": {},
     "output_type": "execute_result"
    },
    {
     "data": {
      "image/png": "[encoded data removed]",
      "text/plain": [
       "<Figure size 432x288 with 1 Axes>"
      ]
     },
     "metadata": {
      "needs_background": "light"
     },
     "output_type": "display_data"
    }
   ],
   "source": [
    "plt.scatter(x_scaler,y_scaler)\n",
    "plt.plot(x_scaler,svr.predict(x_scaler),\"r\")"
   ]
  },
  {
   "cell_type": "code",
   "execution_count": 20,
   "id": "15d2e00b",
   "metadata": {},
   "outputs": [
    {
     "name": "stderr",
     "output_type": "stream",
     "text": [
      "C:\\ProgramData\\Anaconda3\\lib\\site-packages\\sklearn\\utils\\validation.py:63: DataConversionWarning: A column-vector y was passed when a 1d array was expected. Please change the shape of y to (n_samples, ), for example using ravel().\n",
      "  return f(*args, **kwargs)\n"
     ]
    },
    {
     "data": {
      "text/plain": [
       "[<matplotlib.lines.Line2D at 0x20d55259910>]"
      ]
     },
     "execution_count": 20,
     "metadata": {},
     "output_type": "execute_result"
    },
    {
     "data": {
      "image/png": "[encoded data removed]",
      "text/plain": [
       "<Figure size 432x288 with 1 Axes>"
      ]
     },
     "metadata": {
      "needs_background": "light"
     },
     "output_type": "display_data"
    }
   ],
   "source": [
    "svr1=SVR(kernel=\"rbf\")\n",
    "svr1.fit(x_scaler,y_scaler)\n",
    "plt.scatter(x_scaler,y_scaler)\n",
    "plt.plot(x_scaler,svr1.predict(x_scaler),\"r\")"
   ]
  },
  {
   "cell_type": "code",
   "execution_count": 21,
   "id": "392b442d",
   "metadata": {},
   "outputs": [],
   "source": [
    "# tree\n",
    "from sklearn.tree import DecisionTreeRegressor"
   ]
  },
  {
   "cell_type": "code",
   "execution_count": 22,
   "id": "d12d2b1a",
   "metadata": {},
   "outputs": [
    {
     "data": {
      "text/plain": [
       "[<matplotlib.lines.Line2D at 0x20d4f38dc10>]"
      ]
     },
     "execution_count": 22,
     "metadata": {},
     "output_type": "execute_result"
    },
    {
     "data": {
      "image/png": "[encoded data removed]",
      "text/plain": [
       "<Figure size 432x288 with 1 Axes>"
      ]
     },
     "metadata": {
      "needs_background": "light"
     },
     "output_type": "display_data"
    }
   ],
   "source": [
    "tree=DecisionTreeRegressor(random_state=0)\n",
    "tree.fit(x,y)\n",
    "plt.scatter(x,y)\n",
    "plt.plot(x,tree.predict(x),\"r\")"
   ]
  },
  {
   "cell_type": "code",
   "execution_count": 23,
   "id": "9f087b08",
   "metadata": {},
   "outputs": [
    {
     "data": {
      "text/plain": [
       "array([50000.])"
      ]
     },
     "execution_count": 23,
     "metadata": {},
     "output_type": "execute_result"
    }
   ],
   "source": [
    "tree.predict([[55.9]])"
   ]
  },
  {
   "cell_type": "code",
   "execution_count": 24,
   "id": "34f24c2e",
   "metadata": {},
   "outputs": [
    {
     "data": {
      "text/plain": [
       "array([[ 2250],\n",
       "       [ 2500],\n",
       "       [ 3000],\n",
       "       [ 4000],\n",
       "       [ 5500],\n",
       "       [ 7500],\n",
       "       [10000],\n",
       "       [15000],\n",
       "       [25000],\n",
       "       [50000]], dtype=int64)"
      ]
     },
     "execution_count": 24,
     "metadata": {},
     "output_type": "execute_result"
    }
   ],
   "source": [
    "y"
   ]
  },
  {
   "cell_type": "code",
   "execution_count": 25,
   "id": "e2f5cff8",
   "metadata": {},
   "outputs": [],
   "source": [
    "#Rassal ağac"
   ]
  },
  {
   "cell_type": "code",
   "execution_count": 26,
   "id": "9f0aaea7",
   "metadata": {},
   "outputs": [],
   "source": [
    "from sklearn.ensemble import RandomForestRegressor"
   ]
  },
  {
   "cell_type": "code",
   "execution_count": 27,
   "id": "af88067d",
   "metadata": {},
   "outputs": [
    {
     "name": "stderr",
     "output_type": "stream",
     "text": [
      "C:\\Users\\SEFASZ~1\\AppData\\Local\\Temp/ipykernel_19332/2804927358.py:2: DataConversionWarning: A column-vector y was passed when a 1d array was expected. Please change the shape of y to (n_samples,), for example using ravel().\n",
      "  rassal.fit(x,y)\n"
     ]
    },
    {
     "data": {
      "text/plain": [
       "RandomForestRegressor(n_estimators=14, random_state=0)"
      ]
     },
     "execution_count": 27,
     "metadata": {},
     "output_type": "execute_result"
    }
   ],
   "source": [
    "rassal=RandomForestRegressor(n_estimators=14,random_state=0)\n",
    "rassal.fit(x,y)"
   ]
  },
  {
   "cell_type": "code",
   "execution_count": 28,
   "id": "c9a4c04d",
   "metadata": {},
   "outputs": [
    {
     "data": {
      "text/plain": [
       "[<matplotlib.lines.Line2D at 0x20d4f480c10>]"
      ]
     },
     "execution_count": 28,
     "metadata": {},
     "output_type": "execute_result"
    },
    {
     "data": {
      "image/png": "[encoded data removed]",
      "text/plain": [
       "<Figure size 432x288 with 1 Axes>"
      ]
     },
     "metadata": {
      "needs_background": "light"
     },
     "output_type": "display_data"
    }
   ],
   "source": [
    "plt.scatter(x,y)\n",
    "plt.plot(x,rassal.predict(x),\"r\")"
   ]
  },
  {
   "cell_type": "code",
   "execution_count": 29,
   "id": "01cef373",
   "metadata": {},
   "outputs": [
    {
     "data": {
      "text/plain": [
       "array([5607.14285714])"
      ]
     },
     "execution_count": 29,
     "metadata": {},
     "output_type": "execute_result"
    }
   ],
   "source": [
    "rassal.predict([[5.5]])"
   ]
  },
  {
   "cell_type": "code",
   "execution_count": 30,
   "id": "15cd6a11",
   "metadata": {},
   "outputs": [],
   "source": [
    "#r_2 degeri kontrol"
   ]
  },
  {
   "cell_type": "code",
   "execution_count": 31,
   "id": "47b04849",
   "metadata": {},
   "outputs": [],
   "source": [
    "from sklearn.metrics import r2_score"
   ]
  },
  {
   "cell_type": "code",
   "execution_count": 43,
   "id": "9bab7dcf",
   "metadata": {},
   "outputs": [
    {
     "name": "stdout",
     "output_type": "stream",
     "text": [
      "Linear r2\n"
     ]
    },
    {
     "data": {
      "text/plain": [
       "0.6690412331929894"
      ]
     },
     "execution_count": 43,
     "metadata": {},
     "output_type": "execute_result"
    }
   ],
   "source": [
    "print(\"Linear r2\")\n",
    "r2_score(y,lin_reg.predict(x))"
   ]
  },
  {
   "cell_type": "code",
   "execution_count": 42,
   "id": "16ef89a8",
   "metadata": {},
   "outputs": [
    {
     "name": "stdout",
     "output_type": "stream",
     "text": [
      "Poly r2 kontrol\n"
     ]
    },
    {
     "data": {
      "text/plain": [
       "0.9973922891706615"
      ]
     },
     "execution_count": 42,
     "metadata": {},
     "output_type": "execute_result"
    }
   ],
   "source": [
    "print(\"Poly r2 kontrol\")\n",
    "r2_score(y,lin_reg2.predict(lin_poly2.fit_transform(x)))"
   ]
  },
  {
   "cell_type": "code",
   "execution_count": 47,
   "id": "14ebedf3",
   "metadata": {},
   "outputs": [
    {
     "name": "stdout",
     "output_type": "stream",
     "text": [
      "SVR r2 kontrol\n"
     ]
    },
    {
     "data": {
      "text/plain": [
       "0.7513836788854973"
      ]
     },
     "execution_count": 47,
     "metadata": {},
     "output_type": "execute_result"
    }
   ],
   "source": [
    "print(\"SVR r2 kontrol\")\n",
    "r2_score(y_scaler,svr.predict(x_scaler))"
   ]
  },
  {
   "cell_type": "code",
   "execution_count": 48,
   "id": "0d736e4e",
   "metadata": {},
   "outputs": [
    {
     "name": "stdout",
     "output_type": "stream",
     "text": [
      "TREE r2 kontrol\n"
     ]
    },
    {
     "data": {
      "text/plain": [
       "1.0"
      ]
     },
     "execution_count": 48,
     "metadata": {},
     "output_type": "execute_result"
    }
   ],
   "source": [
    "print(\"TREE r2 kontrol\")\n",
    "r2_score(y,tree.predict(x))"
   ]
  },
  {
   "cell_type": "code",
   "execution_count": 49,
   "id": "e0097701",
   "metadata": {},
   "outputs": [
    {
     "name": "stdout",
     "output_type": "stream",
     "text": [
      "Rassal tree r2 kontrol\n"
     ]
    },
    {
     "data": {
      "text/plain": [
       "0.9506866025701398"
      ]
     },
     "execution_count": 49,
     "metadata": {},
     "output_type": "execute_result"
    }
   ],
   "source": [
    "print(\"Rassal tree r2 kontrol\")\n",
    "r2_score(y,rassal.predict(x))"
   ]
  },
  {
   "cell_type": "code",
   "execution_count": null,
   "id": "094daebc",
   "metadata": {},
   "outputs": [],
   "source": []
  }
 ],
 "metadata": {
  "kernelspec": {
   "display_name": "Python 3 (ipykernel)",
   "language": "python",
   "name": "python3"
  },
  "language_info": {
   "codemirror_mode": {
    "name": "ipython",
    "version": 3
   },
   "file_extension": ".py",
   "mimetype": "text/x-python",
   "name": "python",
   "nbconvert_exporter": "python",
   "pygments_lexer": "ipython3",
   "version": "3.9.7"
  }
 },
 "nbformat": 4,
 "nbformat_minor": 5
}
