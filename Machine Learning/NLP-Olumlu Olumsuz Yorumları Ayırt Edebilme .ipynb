{
 "cells": [
  {
   "cell_type": "code",
   "execution_count": 4,
   "id": "94bd8fef",
   "metadata": {},
   "outputs": [],
   "source": [
    "#Kütüphaneler\n",
    "import numpy as np\n",
    "import pandas as pd\n",
    "import matplotlib.pyplot as plt\n",
    "import re\n"
   ]
  },
  {
   "cell_type": "code",
   "execution_count": 5,
   "id": "68143063",
   "metadata": {},
   "outputs": [],
   "source": [
    "#Veriyi çekiyoruz\n",
    "Data1=pd.read_excel(\"yorumlar.xlsx\")"
   ]
  },
  {
   "cell_type": "code",
   "execution_count": 6,
   "id": "88b0cf28",
   "metadata": {},
   "outputs": [
    {
     "data": {
      "text/html": [
       "<div>\n",
       "<style scoped>\n",
       "    .dataframe tbody tr th:only-of-type {\n",
       "        vertical-align: middle;\n",
       "    }\n",
       "\n",
       "    .dataframe tbody tr th {\n",
       "        vertical-align: top;\n",
       "    }\n",
       "\n",
       "    .dataframe thead th {\n",
       "        text-align: right;\n",
       "    }\n",
       "</style>\n",
       "<table border=\"1\" class=\"dataframe\">\n",
       "  <thead>\n",
       "    <tr style=\"text-align: right;\">\n",
       "      <th></th>\n",
       "      <th>Review</th>\n",
       "      <th>Liked</th>\n",
       "    </tr>\n",
       "  </thead>\n",
       "  <tbody>\n",
       "    <tr>\n",
       "      <th>0</th>\n",
       "      <td>Wow... Loved this place</td>\n",
       "      <td>1</td>\n",
       "    </tr>\n",
       "    <tr>\n",
       "      <th>1</th>\n",
       "      <td>Crust is not good</td>\n",
       "      <td>0</td>\n",
       "    </tr>\n",
       "    <tr>\n",
       "      <th>2</th>\n",
       "      <td>Not tasty and the texture was just nasty</td>\n",
       "      <td>0</td>\n",
       "    </tr>\n",
       "    <tr>\n",
       "      <th>3</th>\n",
       "      <td>Stopped by during the late May bank holiday of...</td>\n",
       "      <td>1</td>\n",
       "    </tr>\n",
       "    <tr>\n",
       "      <th>4</th>\n",
       "      <td>The selection on the menu was great and so wer...</td>\n",
       "      <td>1</td>\n",
       "    </tr>\n",
       "    <tr>\n",
       "      <th>...</th>\n",
       "      <td>...</td>\n",
       "      <td>...</td>\n",
       "    </tr>\n",
       "    <tr>\n",
       "      <th>995</th>\n",
       "      <td>I think food should have flavor and texture an...</td>\n",
       "      <td>0</td>\n",
       "    </tr>\n",
       "    <tr>\n",
       "      <th>996</th>\n",
       "      <td>Appetite instantly gone</td>\n",
       "      <td>0</td>\n",
       "    </tr>\n",
       "    <tr>\n",
       "      <th>997</th>\n",
       "      <td>Overall I was not impressed and would not go back</td>\n",
       "      <td>0</td>\n",
       "    </tr>\n",
       "    <tr>\n",
       "      <th>998</th>\n",
       "      <td>The whole experience was underwhelming, and I ...</td>\n",
       "      <td>0</td>\n",
       "    </tr>\n",
       "    <tr>\n",
       "      <th>999</th>\n",
       "      <td>Then, as if I hadn't wasted enough of my life ...</td>\n",
       "      <td>0</td>\n",
       "    </tr>\n",
       "  </tbody>\n",
       "</table>\n",
       "<p>1000 rows × 2 columns</p>\n",
       "</div>"
      ],
      "text/plain": [
       "                                                Review  Liked\n",
       "0                              Wow... Loved this place      1\n",
       "1                                    Crust is not good      0\n",
       "2             Not tasty and the texture was just nasty      0\n",
       "3    Stopped by during the late May bank holiday of...      1\n",
       "4    The selection on the menu was great and so wer...      1\n",
       "..                                                 ...    ...\n",
       "995  I think food should have flavor and texture an...      0\n",
       "996                            Appetite instantly gone      0\n",
       "997  Overall I was not impressed and would not go back      0\n",
       "998  The whole experience was underwhelming, and I ...      0\n",
       "999  Then, as if I hadn't wasted enough of my life ...      0\n",
       "\n",
       "[1000 rows x 2 columns]"
      ]
     },
     "execution_count": 6,
     "metadata": {},
     "output_type": "execute_result"
    }
   ],
   "source": [
    "Data1"
   ]
  },
  {
   "cell_type": "code",
   "execution_count": 7,
   "id": "4373519b",
   "metadata": {},
   "outputs": [],
   "source": [
    "#Or\n",
    "yorum=re.sub('[^a-zA-Z]',' ',Data1[\"Review\"][1])"
   ]
  },
  {
   "cell_type": "code",
   "execution_count": 8,
   "id": "0c4f959e",
   "metadata": {},
   "outputs": [
    {
     "data": {
      "text/plain": [
       "'Crust is not good'"
      ]
     },
     "execution_count": 8,
     "metadata": {},
     "output_type": "execute_result"
    }
   ],
   "source": [
    "yorum"
   ]
  },
  {
   "cell_type": "code",
   "execution_count": 9,
   "id": "6f056a5f",
   "metadata": {},
   "outputs": [
    {
     "data": {
      "text/plain": [
       "'crust is not good'"
      ]
     },
     "execution_count": 9,
     "metadata": {},
     "output_type": "execute_result"
    }
   ],
   "source": [
    "yorum.lower()"
   ]
  },
  {
   "cell_type": "code",
   "execution_count": 10,
   "id": "7594ba71",
   "metadata": {},
   "outputs": [
    {
     "data": {
      "text/plain": [
       "['Crust', 'is', 'not', 'good']"
      ]
     },
     "execution_count": 10,
     "metadata": {},
     "output_type": "execute_result"
    }
   ],
   "source": [
    "yorum.split()"
   ]
  },
  {
   "cell_type": "code",
   "execution_count": 11,
   "id": "308eae36",
   "metadata": {},
   "outputs": [],
   "source": [
    "import nltk\n",
    "from nltk.corpus import stopwords"
   ]
  },
  {
   "cell_type": "code",
   "execution_count": 12,
   "id": "fd5117c2",
   "metadata": {},
   "outputs": [],
   "source": [
    "from nltk.stem.porter import PorterStemmer"
   ]
  },
  {
   "cell_type": "code",
   "execution_count": 13,
   "id": "8decd192",
   "metadata": {},
   "outputs": [],
   "source": [
    "ps=PorterStemmer()\n"
   ]
  },
  {
   "cell_type": "code",
   "execution_count": 14,
   "id": "82311047",
   "metadata": {},
   "outputs": [],
   "source": [
    "#Data1.drop([0],axis=0,inplace=True)\n",
    "derleme=[]\n",
    "for i in range(1000):\n",
    "    yorum=re.sub(\"[^a-zA-Z]\",\" \",Data1[\"Review\"][i])#Yorumdaki Harflerden haricindeki herşeyi kaldırıyoruz\n",
    "    yorum=yorum.lower()#Bütün Harfleri küçültüyoruz\n",
    "    yorum=yorum.split()#Kelimeler halinde ayiriyoruz\n",
    "    yorum=[ps.stem(kelime) for kelime in yorum if not kelime in set(stopwords.words('english'))]#Ve bu kelimelerdeki StopWord(işe yaramayan) kelimeleri çıkartıyoruz.\n",
    "    yorum=' '.join(yorum)# Geri cümle olarak Birleştiriyoruz\n",
    "    derleme.append(yorum)# Cümleyi Listeye Ekliyoruz"
   ]
  },
  {
   "cell_type": "code",
   "execution_count": 15,
   "id": "cfa0acdf",
   "metadata": {},
   "outputs": [],
   "source": [
    "#Kelimelerdeki Fiileri Köklerine ayırıyoruz\n",
    "from sklearn.feature_extraction.text import CountVectorizer"
   ]
  },
  {
   "cell_type": "code",
   "execution_count": 16,
   "id": "33114c63",
   "metadata": {},
   "outputs": [],
   "source": [
    "cv=CountVectorizer(max_features=2000) \n",
    "X=cv.fit_transform(derleme).toarray()\n",
    "y=Data1.iloc[:,1].values"
   ]
  },
  {
   "cell_type": "code",
   "execution_count": 17,
   "id": "a9f5a749",
   "metadata": {},
   "outputs": [],
   "source": [
    "#Yorumlari train ve test olacak sekilde ayiriyoruz\n",
    "from sklearn.model_selection import train_test_split"
   ]
  },
  {
   "cell_type": "code",
   "execution_count": 18,
   "id": "e66e0ae0",
   "metadata": {},
   "outputs": [],
   "source": [
    "x_train,x_test,y_train,y_test=train_test_split(X,y,test_size=0.33,random_state=0)"
   ]
  },
  {
   "cell_type": "code",
   "execution_count": 19,
   "id": "76386132",
   "metadata": {},
   "outputs": [],
   "source": [
    "#Naive bayes ile öğretip tahmin etiriyoruz\n",
    "from sklearn.naive_bayes import GaussianNB"
   ]
  },
  {
   "cell_type": "code",
   "execution_count": 20,
   "id": "463514ba",
   "metadata": {},
   "outputs": [],
   "source": [
    "GNB=GaussianNB()\n",
    "GNB.fit(x_train,y_train)\n",
    "y_tahmin=GNB.predict(x_test)"
   ]
  },
  {
   "cell_type": "code",
   "execution_count": 21,
   "id": "c111bb70",
   "metadata": {},
   "outputs": [],
   "source": [
    "from sklearn.metrics import confusion_matrix"
   ]
  },
  {
   "cell_type": "code",
   "execution_count": 22,
   "id": "0cc52afe",
   "metadata": {},
   "outputs": [],
   "source": [
    "cm=confusion_matrix(y_test,y_tahmin)"
   ]
  },
  {
   "cell_type": "code",
   "execution_count": 23,
   "id": "eb125392",
   "metadata": {},
   "outputs": [
    {
     "data": {
      "text/plain": [
       "array([[ 87,  72],\n",
       "       [ 26, 145]], dtype=int64)"
      ]
     },
     "execution_count": 23,
     "metadata": {},
     "output_type": "execute_result"
    }
   ],
   "source": [
    "cm"
   ]
  },
  {
   "cell_type": "code",
   "execution_count": 24,
   "id": "1e1b870e",
   "metadata": {},
   "outputs": [],
   "source": [
    "#SVC\n",
    "from sklearn.svm import SVC"
   ]
  },
  {
   "cell_type": "code",
   "execution_count": 25,
   "id": "69134e26",
   "metadata": {},
   "outputs": [
    {
     "data": {
      "text/plain": [
       "array([[146,  13],\n",
       "       [ 77,  94]], dtype=int64)"
      ]
     },
     "execution_count": 25,
     "metadata": {},
     "output_type": "execute_result"
    }
   ],
   "source": [
    "svc=SVC()\n",
    "svc.fit(x_train,y_train)\n",
    "y_tahmin=svc.predict(x_test)\n",
    "confusion_matrix(y_test,y_tahmin)"
   ]
  },
  {
   "cell_type": "code",
   "execution_count": 26,
   "id": "71ce86aa",
   "metadata": {},
   "outputs": [
    {
     "data": {
      "text/plain": [
       "array([[146,  13],\n",
       "       [ 77,  94]], dtype=int64)"
      ]
     },
     "execution_count": 26,
     "metadata": {},
     "output_type": "execute_result"
    }
   ],
   "source": [
    "#Karar ağacı\n",
    "from sklearn.tree import DecisionTreeClassifier\n",
    "DTC=DecisionTreeClassifier(criterion=\"entropy\")\n",
    "DTC.fit(x_train,y_train)\n",
    "DTCtahmin=DTC.predict(x_test)\n",
    "confusion_matrix(y_test,y_tahmin)"
   ]
  },
  {
   "cell_type": "code",
   "execution_count": 35,
   "id": "6febd659",
   "metadata": {},
   "outputs": [
    {
     "data": {
      "text/plain": [
       "array([[137,  22],\n",
       "       [ 70, 101]], dtype=int64)"
      ]
     },
     "execution_count": 35,
     "metadata": {},
     "output_type": "execute_result"
    }
   ],
   "source": [
    "#Rassal Orman\n",
    "from sklearn.ensemble import RandomForestClassifier\n",
    "rfc=RandomForestClassifier(n_estimators=17,criterion=\"entropy\")\n",
    "rfc.fit(x_train,y_train)\n",
    "rfcTahmin=rfc.predict(x_test)\n",
    "confusion_matrix(y_test,rfcTahmin)"
   ]
  },
  {
   "cell_type": "code",
   "execution_count": 36,
   "id": "8347deb2",
   "metadata": {},
   "outputs": [
    {
     "data": {
      "text/plain": [
       "array([[132,  27],\n",
       "       [ 60, 111]], dtype=int64)"
      ]
     },
     "execution_count": 36,
     "metadata": {},
     "output_type": "execute_result"
    }
   ],
   "source": [
    "#lojistik Regresyon\n",
    "from sklearn.linear_model import LogisticRegression\n",
    "lr=LogisticRegression(random_state=0)\n",
    "lr.fit(x_train,y_train)\n",
    "lrTahmin=lr.predict(x_test)\n",
    "confusion_matrix(y_test,lrTahmin)"
   ]
  },
  {
   "cell_type": "code",
   "execution_count": null,
   "id": "2a439dbe",
   "metadata": {},
   "outputs": [],
   "source": []
  }
 ],
 "metadata": {
  "kernelspec": {
   "display_name": "Python 3 (ipykernel)",
   "language": "python",
   "name": "python3"
  },
  "language_info": {
   "codemirror_mode": {
    "name": "ipython",
    "version": 3
   },
   "file_extension": ".py",
   "mimetype": "text/x-python",
   "name": "python",
   "nbconvert_exporter": "python",
   "pygments_lexer": "ipython3",
   "version": "3.9.7"
  }
 },
 "nbformat": 4,
 "nbformat_minor": 5
}
