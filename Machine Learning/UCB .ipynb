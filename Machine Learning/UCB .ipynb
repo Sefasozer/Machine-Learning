{
 "cells": [
  {
   "cell_type": "code",
   "execution_count": 2,
   "id": "736ba7ed",
   "metadata": {},
   "outputs": [],
   "source": [
    "#Kütüphaneler\n",
    "import numpy as np\n",
    "import pandas as pd\n",
    "import matplotlib.pyplot as plt\n",
    "import random"
   ]
  },
  {
   "cell_type": "code",
   "execution_count": 3,
   "id": "f9235962",
   "metadata": {},
   "outputs": [],
   "source": [
    "#Veiri çekiyoruz\n",
    "data1=pd.read_csv(\"Ads_CTR_Optimisation.csv\")\n",
    "#liste1=[]\n",
    "#toplam=0"
   ]
  },
  {
   "cell_type": "code",
   "execution_count": 7,
   "id": "a474465f",
   "metadata": {},
   "outputs": [
    {
     "name": "stdout",
     "output_type": "stream",
     "text": [
      "Toplam Odul:\n",
      "2231\n"
     ]
    },
    {
     "data": {
      "image/png": "[encoded data removed]",
      "text/plain": [
       "<Figure size 432x288 with 1 Axes>"
      ]
     },
     "metadata": {
      "needs_background": "light"
     },
     "output_type": "display_data"
    }
   ],
   "source": [
    "import math\n",
    "#UCB (ÜST GÜVEN ARALIĞI)\n",
    "N = 10000 # 10.000 tıklama\n",
    "d = 10  # toplam 10 ilan var\n",
    "#Ri(n)\n",
    "oduller = [0] * d #ilk basta butun ilanların odulu 0\n",
    "#Ni(n)\n",
    "tiklamalar = [0] * d #o ana kadarki tıklamalar\n",
    "toplam = 0 # toplam odul\n",
    "secilenler = []\n",
    "\n",
    "for n in range(1,N):\n",
    "    ad = 0 #seçilen ilan\n",
    "    max_ucb = 0\n",
    "    for i in range(0,d):\n",
    "        if(tiklamalar[i] > 0):\n",
    "            ortalama = oduller[i] / tiklamalar[i]\n",
    "            delta = math.sqrt(3/2* math.log(n)/tiklamalar[i])\n",
    "            ucb = ortalama + delta\n",
    "        else:\n",
    "            ucb = N*10\n",
    "        if max_ucb < ucb: #max'tan büyük bir ucb çıktı\n",
    "            max_ucb = ucb\n",
    "            ad = i          \n",
    "    secilenler.append(ad)\n",
    "    tiklamalar[ad] = tiklamalar[ad]+ 1\n",
    "    odul = data1.values[n,ad] # verilerdeki n. satır = 1 ise odul 1\n",
    "    oduller[ad] = oduller[ad]+ odul\n",
    "    toplam = toplam + odul\n",
    "print('Toplam Odul:')   \n",
    "print(toplam)\n",
    "\n",
    "plt.hist(secilenler)\n",
    "plt.show()"
   ]
  },
  {
   "cell_type": "code",
   "execution_count": 11,
   "id": "14a24dcb",
   "metadata": {},
   "outputs": [],
   "source": [
    "#Thomson Modeli\n",
    "import math\n",
    "N=10000\n",
    "d=10\n",
    "birler=[0]*10\n",
    "sifirlar=[0]*10\n",
    "secilenler=[]\n",
    "toplam=0\n",
    "\n",
    "for n in range(0,N):\n",
    "    ad=0\n",
    "    max_thn=0\n",
    "    for i in range(0,d):\n",
    "        rasbeta=random.betavariate(birler[i]+1,sifirlar[i]+1)\n",
    "        if max_thn<rasbeta:\n",
    "            max_thn=rasbeta\n",
    "            ad=i\n",
    "    secilenler.append(ad)\n",
    "    \n",
    "    odul = data1.values[n,ad] # verilerdeki n. satır = 1 ise odul 1\n",
    "    if odul==1:\n",
    "        birler[ad]+=1\n",
    "        toplam+=1\n",
    "    else:\n",
    "        sifirlar[ad]+=1\n",
    "    "
   ]
  },
  {
   "cell_type": "code",
   "execution_count": 12,
   "id": "defa671d",
   "metadata": {},
   "outputs": [
    {
     "data": {
      "text/plain": [
       "2616"
      ]
     },
     "execution_count": 12,
     "metadata": {},
     "output_type": "execute_result"
    }
   ],
   "source": [
    "toplam"
   ]
  },
  {
   "cell_type": "code",
   "execution_count": 13,
   "id": "b7968afc",
   "metadata": {},
   "outputs": [
    {
     "data": {
      "text/plain": [
       "(array([ 163.,  100.,   24.,   75., 9371.,   30.,   55.,   92.,   64.,\n",
       "          26.]),\n",
       " array([0. , 0.9, 1.8, 2.7, 3.6, 4.5, 5.4, 6.3, 7.2, 8.1, 9. ]),\n",
       " <BarContainer object of 10 artists>)"
      ]
     },
     "execution_count": 13,
     "metadata": {},
     "output_type": "execute_result"
    },
    {
     "data": {
      "image/png": "[encoded data removed]",
      "text/plain": [
       "<Figure size 432x288 with 1 Axes>"
      ]
     },
     "metadata": {
      "needs_background": "light"
     },
     "output_type": "display_data"
    }
   ],
   "source": [
    "plt.hist(secilenler)"
   ]
  },
  {
   "cell_type": "code",
   "execution_count": null,
   "id": "f64d0b35",
   "metadata": {},
   "outputs": [],
   "source": []
  }
 ],
 "metadata": {
  "kernelspec": {
   "display_name": "Python 3 (ipykernel)",
   "language": "python",
   "name": "python3"
  },
  "language_info": {
   "codemirror_mode": {
    "name": "ipython",
    "version": 3
   },
   "file_extension": ".py",
   "mimetype": "text/x-python",
   "name": "python",
   "nbconvert_exporter": "python",
   "pygments_lexer": "ipython3",
   "version": "3.9.7"
  }
 },
 "nbformat": 4,
 "nbformat_minor": 5
}
