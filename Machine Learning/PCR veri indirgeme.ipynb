{
 "cells": [
  {
   "cell_type": "code",
   "execution_count": 1,
   "id": "c8a27ca3",
   "metadata": {},
   "outputs": [],
   "source": [
    "#Kütüphaneler\n",
    "import numpy as np\n",
    "import pandas as pd\n",
    "import matplotlib.pyplot as plt"
   ]
  },
  {
   "cell_type": "code",
   "execution_count": 2,
   "id": "72ec326e",
   "metadata": {},
   "outputs": [],
   "source": [
    "#Veriyi çekiyoruz\n",
    "Data1=pd.read_excel(\"wine.xlsx\")"
   ]
  },
  {
   "cell_type": "code",
   "execution_count": 3,
   "id": "e52abd10",
   "metadata": {},
   "outputs": [
    {
     "data": {
      "text/html": [
       "<div>\n",
       "<style scoped>\n",
       "    .dataframe tbody tr th:only-of-type {\n",
       "        vertical-align: middle;\n",
       "    }\n",
       "\n",
       "    .dataframe tbody tr th {\n",
       "        vertical-align: top;\n",
       "    }\n",
       "\n",
       "    .dataframe thead th {\n",
       "        text-align: right;\n",
       "    }\n",
       "</style>\n",
       "<table border=\"1\" class=\"dataframe\">\n",
       "  <thead>\n",
       "    <tr style=\"text-align: right;\">\n",
       "      <th></th>\n",
       "      <th>Alcohol</th>\n",
       "      <th>Malic_Acid</th>\n",
       "      <th>Ash</th>\n",
       "      <th>Ash_Alcanity</th>\n",
       "      <th>Magnesium</th>\n",
       "      <th>Total_Phenols</th>\n",
       "      <th>Flavanoids</th>\n",
       "      <th>Nonflavanoid_Phenols</th>\n",
       "      <th>Proanthocyanins</th>\n",
       "      <th>Color_Intensity</th>\n",
       "      <th>Hue</th>\n",
       "      <th>OD280</th>\n",
       "      <th>Proline</th>\n",
       "      <th>Customer_Segment</th>\n",
       "    </tr>\n",
       "  </thead>\n",
       "  <tbody>\n",
       "    <tr>\n",
       "      <th>0</th>\n",
       "      <td>1423</td>\n",
       "      <td>171</td>\n",
       "      <td>243</td>\n",
       "      <td>156</td>\n",
       "      <td>127</td>\n",
       "      <td>28</td>\n",
       "      <td>306</td>\n",
       "      <td>28</td>\n",
       "      <td>229</td>\n",
       "      <td>564</td>\n",
       "      <td>104</td>\n",
       "      <td>392</td>\n",
       "      <td>1065</td>\n",
       "      <td>1</td>\n",
       "    </tr>\n",
       "    <tr>\n",
       "      <th>1</th>\n",
       "      <td>132</td>\n",
       "      <td>178</td>\n",
       "      <td>214</td>\n",
       "      <td>112</td>\n",
       "      <td>100</td>\n",
       "      <td>265</td>\n",
       "      <td>276</td>\n",
       "      <td>26</td>\n",
       "      <td>128</td>\n",
       "      <td>438</td>\n",
       "      <td>105</td>\n",
       "      <td>34</td>\n",
       "      <td>1050</td>\n",
       "      <td>1</td>\n",
       "    </tr>\n",
       "    <tr>\n",
       "      <th>2</th>\n",
       "      <td>1316</td>\n",
       "      <td>236</td>\n",
       "      <td>267</td>\n",
       "      <td>186</td>\n",
       "      <td>101</td>\n",
       "      <td>28</td>\n",
       "      <td>324</td>\n",
       "      <td>3</td>\n",
       "      <td>281</td>\n",
       "      <td>568</td>\n",
       "      <td>103</td>\n",
       "      <td>317</td>\n",
       "      <td>1185</td>\n",
       "      <td>1</td>\n",
       "    </tr>\n",
       "    <tr>\n",
       "      <th>3</th>\n",
       "      <td>1437</td>\n",
       "      <td>195</td>\n",
       "      <td>25</td>\n",
       "      <td>168</td>\n",
       "      <td>113</td>\n",
       "      <td>385</td>\n",
       "      <td>349</td>\n",
       "      <td>24</td>\n",
       "      <td>218</td>\n",
       "      <td>78</td>\n",
       "      <td>86</td>\n",
       "      <td>345</td>\n",
       "      <td>1480</td>\n",
       "      <td>1</td>\n",
       "    </tr>\n",
       "    <tr>\n",
       "      <th>4</th>\n",
       "      <td>1324</td>\n",
       "      <td>259</td>\n",
       "      <td>287</td>\n",
       "      <td>21</td>\n",
       "      <td>118</td>\n",
       "      <td>28</td>\n",
       "      <td>269</td>\n",
       "      <td>39</td>\n",
       "      <td>182</td>\n",
       "      <td>432</td>\n",
       "      <td>104</td>\n",
       "      <td>293</td>\n",
       "      <td>735</td>\n",
       "      <td>1</td>\n",
       "    </tr>\n",
       "    <tr>\n",
       "      <th>...</th>\n",
       "      <td>...</td>\n",
       "      <td>...</td>\n",
       "      <td>...</td>\n",
       "      <td>...</td>\n",
       "      <td>...</td>\n",
       "      <td>...</td>\n",
       "      <td>...</td>\n",
       "      <td>...</td>\n",
       "      <td>...</td>\n",
       "      <td>...</td>\n",
       "      <td>...</td>\n",
       "      <td>...</td>\n",
       "      <td>...</td>\n",
       "      <td>...</td>\n",
       "    </tr>\n",
       "    <tr>\n",
       "      <th>173</th>\n",
       "      <td>1371</td>\n",
       "      <td>565</td>\n",
       "      <td>245</td>\n",
       "      <td>205</td>\n",
       "      <td>95</td>\n",
       "      <td>168</td>\n",
       "      <td>61</td>\n",
       "      <td>52</td>\n",
       "      <td>106</td>\n",
       "      <td>77</td>\n",
       "      <td>64</td>\n",
       "      <td>174</td>\n",
       "      <td>740</td>\n",
       "      <td>3</td>\n",
       "    </tr>\n",
       "    <tr>\n",
       "      <th>174</th>\n",
       "      <td>134</td>\n",
       "      <td>391</td>\n",
       "      <td>248</td>\n",
       "      <td>23</td>\n",
       "      <td>102</td>\n",
       "      <td>18</td>\n",
       "      <td>75</td>\n",
       "      <td>43</td>\n",
       "      <td>141</td>\n",
       "      <td>73</td>\n",
       "      <td>7</td>\n",
       "      <td>156</td>\n",
       "      <td>750</td>\n",
       "      <td>3</td>\n",
       "    </tr>\n",
       "    <tr>\n",
       "      <th>175</th>\n",
       "      <td>1327</td>\n",
       "      <td>428</td>\n",
       "      <td>226</td>\n",
       "      <td>20</td>\n",
       "      <td>120</td>\n",
       "      <td>159</td>\n",
       "      <td>69</td>\n",
       "      <td>43</td>\n",
       "      <td>135</td>\n",
       "      <td>102</td>\n",
       "      <td>59</td>\n",
       "      <td>156</td>\n",
       "      <td>835</td>\n",
       "      <td>3</td>\n",
       "    </tr>\n",
       "    <tr>\n",
       "      <th>176</th>\n",
       "      <td>1317</td>\n",
       "      <td>259</td>\n",
       "      <td>237</td>\n",
       "      <td>20</td>\n",
       "      <td>120</td>\n",
       "      <td>165</td>\n",
       "      <td>68</td>\n",
       "      <td>53</td>\n",
       "      <td>146</td>\n",
       "      <td>93</td>\n",
       "      <td>6</td>\n",
       "      <td>162</td>\n",
       "      <td>840</td>\n",
       "      <td>3</td>\n",
       "    </tr>\n",
       "    <tr>\n",
       "      <th>177</th>\n",
       "      <td>1413</td>\n",
       "      <td>41</td>\n",
       "      <td>274</td>\n",
       "      <td>245</td>\n",
       "      <td>96</td>\n",
       "      <td>205</td>\n",
       "      <td>76</td>\n",
       "      <td>56</td>\n",
       "      <td>135</td>\n",
       "      <td>92</td>\n",
       "      <td>61</td>\n",
       "      <td>16</td>\n",
       "      <td>560</td>\n",
       "      <td>3</td>\n",
       "    </tr>\n",
       "  </tbody>\n",
       "</table>\n",
       "<p>178 rows × 14 columns</p>\n",
       "</div>"
      ],
      "text/plain": [
       "     Alcohol  Malic_Acid  Ash  Ash_Alcanity  Magnesium  Total_Phenols  \\\n",
       "0       1423         171  243           156        127             28   \n",
       "1        132         178  214           112        100            265   \n",
       "2       1316         236  267           186        101             28   \n",
       "3       1437         195   25           168        113            385   \n",
       "4       1324         259  287            21        118             28   \n",
       "..       ...         ...  ...           ...        ...            ...   \n",
       "173     1371         565  245           205         95            168   \n",
       "174      134         391  248            23        102             18   \n",
       "175     1327         428  226            20        120            159   \n",
       "176     1317         259  237            20        120            165   \n",
       "177     1413          41  274           245         96            205   \n",
       "\n",
       "     Flavanoids  Nonflavanoid_Phenols  Proanthocyanins  Color_Intensity  Hue  \\\n",
       "0           306                    28              229              564  104   \n",
       "1           276                    26              128              438  105   \n",
       "2           324                     3              281              568  103   \n",
       "3           349                    24              218               78   86   \n",
       "4           269                    39              182              432  104   \n",
       "..          ...                   ...              ...              ...  ...   \n",
       "173          61                    52              106               77   64   \n",
       "174          75                    43              141               73    7   \n",
       "175          69                    43              135              102   59   \n",
       "176          68                    53              146               93    6   \n",
       "177          76                    56              135               92   61   \n",
       "\n",
       "     OD280  Proline  Customer_Segment  \n",
       "0      392     1065                 1  \n",
       "1       34     1050                 1  \n",
       "2      317     1185                 1  \n",
       "3      345     1480                 1  \n",
       "4      293      735                 1  \n",
       "..     ...      ...               ...  \n",
       "173    174      740                 3  \n",
       "174    156      750                 3  \n",
       "175    156      835                 3  \n",
       "176    162      840                 3  \n",
       "177     16      560                 3  \n",
       "\n",
       "[178 rows x 14 columns]"
      ]
     },
     "execution_count": 3,
     "metadata": {},
     "output_type": "execute_result"
    }
   ],
   "source": [
    "Data1"
   ]
  },
  {
   "cell_type": "code",
   "execution_count": 4,
   "id": "bcfd8f89",
   "metadata": {},
   "outputs": [],
   "source": [
    "#Öğrenilecek kolonları ve sonuç kolonlarını ayırıyoruz\n",
    "X=Data1.iloc[:,0:13].values\n",
    "Y=Data1.iloc[:,13].values"
   ]
  },
  {
   "cell_type": "code",
   "execution_count": 5,
   "id": "dd986cac",
   "metadata": {},
   "outputs": [],
   "source": [
    "#Veriyi train ve test verisi olarak ayırıyoruz.\n",
    "from sklearn.model_selection import train_test_split"
   ]
  },
  {
   "cell_type": "code",
   "execution_count": 6,
   "id": "8200d69b",
   "metadata": {},
   "outputs": [],
   "source": [
    "x_train,x_test,y_train,y_test=train_test_split(X,Y,test_size=0.2,random_state=0)"
   ]
  },
  {
   "cell_type": "code",
   "execution_count": 7,
   "id": "d1f71cea",
   "metadata": {},
   "outputs": [],
   "source": [
    "#Verileri 0 ile 1 arasında skale ediyoruz\n",
    "from sklearn.preprocessing import StandardScaler"
   ]
  },
  {
   "cell_type": "code",
   "execution_count": 8,
   "id": "15f1a4ce",
   "metadata": {},
   "outputs": [],
   "source": [
    "sc=StandardScaler()\n",
    "X_train=sc.fit_transform(x_train)\n",
    "X_test=sc.fit_transform(x_test)"
   ]
  },
  {
   "cell_type": "code",
   "execution_count": 9,
   "id": "d28c388a",
   "metadata": {},
   "outputs": [],
   "source": [
    "#PCA Principal Compent Analysis (Birincil Bileşen Analizi)\n",
    "from sklearn.decomposition import PCA"
   ]
  },
  {
   "cell_type": "code",
   "execution_count": 10,
   "id": "ecb96368",
   "metadata": {},
   "outputs": [],
   "source": [
    "\n",
    "pca=PCA(n_components=8)\n",
    "X_train4=pca.fit_transform(X_train)\n",
    "X_test4=pca.transform(X_test)"
   ]
  },
  {
   "cell_type": "code",
   "execution_count": 11,
   "id": "5b7800a2",
   "metadata": {},
   "outputs": [],
   "source": [
    "#İndirgenen veriyi Linear Fonksiyona öğretiyoruz.\n",
    "from sklearn.linear_model import LogisticRegression"
   ]
  },
  {
   "cell_type": "code",
   "execution_count": 12,
   "id": "44f11859",
   "metadata": {},
   "outputs": [],
   "source": [
    "LR=LogisticRegression(random_state=0)\n",
    "LR.fit(X_train4,y_train)\n",
    "Y_pred4=LR.predict(X_test4)"
   ]
  },
  {
   "cell_type": "code",
   "execution_count": 13,
   "id": "25d6cd6c",
   "metadata": {},
   "outputs": [],
   "source": [
    "LR2=LogisticRegression(random_state=0)\n",
    "LR2.fit(X_train,y_train)\n",
    "Y_pred=LR2.predict(X_test)"
   ]
  },
  {
   "cell_type": "code",
   "execution_count": 14,
   "id": "c1f9a46a",
   "metadata": {},
   "outputs": [],
   "source": [
    "#Confusion Matrix ile test ediyoruz\n",
    "from sklearn.metrics import confusion_matrix"
   ]
  },
  {
   "cell_type": "code",
   "execution_count": 15,
   "id": "41cef74b",
   "metadata": {},
   "outputs": [
    {
     "name": "stdout",
     "output_type": "stream",
     "text": [
      "PCA Lİ OLAN\n",
      "[[ 8  0  0]\n",
      " [ 4 14  0]\n",
      " [ 2  2  6]]\n"
     ]
    }
   ],
   "source": [
    "print(\"PCA Lİ OLAN\")\n",
    "cm=confusion_matrix(Y_pred4,y_test)\n",
    "print(cm)"
   ]
  },
  {
   "cell_type": "code",
   "execution_count": 16,
   "id": "41135d96",
   "metadata": {},
   "outputs": [
    {
     "name": "stdout",
     "output_type": "stream",
     "text": [
      "PCA SİZ OLAN\n",
      "[[10  1  0]\n",
      " [ 2 15  0]\n",
      " [ 2  0  6]]\n"
     ]
    }
   ],
   "source": [
    "print(\"PCA SİZ OLAN\")\n",
    "cm=confusion_matrix(Y_pred,y_test)\n",
    "print(cm)"
   ]
  },
  {
   "cell_type": "code",
   "execution_count": 17,
   "id": "29b35e74",
   "metadata": {},
   "outputs": [],
   "source": [
    "#KNN Modelini deniyoruz\n",
    "from sklearn.neighbors import KNeighborsClassifier\n",
    "kn=KNeighborsClassifier(n_neighbors=7,metric=\"minkowski\")\n",
    "kn.fit(X_train,y_train)\n",
    "KNtahmin=kn.predict(X_test)"
   ]
  },
  {
   "cell_type": "code",
   "execution_count": 18,
   "id": "b5174032",
   "metadata": {},
   "outputs": [],
   "source": [
    "cm=confusion_matrix(KNtahmin,y_test)"
   ]
  },
  {
   "cell_type": "code",
   "execution_count": 19,
   "id": "96bb7abc",
   "metadata": {},
   "outputs": [],
   "source": [
    "#SVC Modelini deniyoruz\n",
    "from sklearn.svm import SVC\n",
    "svc=SVC(kernel=\"linear\")\n",
    "svc.fit(X_train,y_train)\n",
    "Tahmin=svc.predict(X_test)"
   ]
  },
  {
   "cell_type": "code",
   "execution_count": 20,
   "id": "aec11191",
   "metadata": {},
   "outputs": [
    {
     "data": {
      "text/plain": [
       "array([[10,  1,  0],\n",
       "       [ 3, 13,  0],\n",
       "       [ 1,  2,  6]], dtype=int64)"
      ]
     },
     "execution_count": 20,
     "metadata": {},
     "output_type": "execute_result"
    }
   ],
   "source": [
    "cm=confusion_matrix(Tahmin,y_test)\n",
    "cm"
   ]
  },
  {
   "cell_type": "code",
   "execution_count": 21,
   "id": "ce4d289b",
   "metadata": {},
   "outputs": [
    {
     "data": {
      "text/plain": [
       "array([[ 0,  0,  0],\n",
       "       [ 0,  0,  0],\n",
       "       [14, 16,  6]], dtype=int64)"
      ]
     },
     "execution_count": 21,
     "metadata": {},
     "output_type": "execute_result"
    }
   ],
   "source": [
    "#Naive Bayes\n",
    "from sklearn.naive_bayes import GaussianNB\n",
    "nb=GaussianNB()\n",
    "nb.fit(X_train,y_train)\n",
    "Tahmin=nb.predict(X_test)\n",
    "confusion_matrix(Tahmin,y_test)"
   ]
  },
  {
   "cell_type": "code",
   "execution_count": 22,
   "id": "0b5fad92",
   "metadata": {},
   "outputs": [
    {
     "data": {
      "text/plain": [
       "array([[10,  3,  1],\n",
       "       [ 0, 16,  0],\n",
       "       [ 0,  2,  4]], dtype=int64)"
      ]
     },
     "execution_count": 22,
     "metadata": {},
     "output_type": "execute_result"
    }
   ],
   "source": [
    "#Tree (Karar ağacı)\n",
    "from sklearn.tree import DecisionTreeClassifier\n",
    "dtc=DecisionTreeClassifier(criterion=\"entropy\")\n",
    "dtc.fit(X_train,y_train)\n",
    "Tahmin=dtc.predict(X_test)\n",
    "confusion_matrix(y_test,Tahmin)"
   ]
  },
  {
   "cell_type": "code",
   "execution_count": 23,
   "id": "0fb45b56",
   "metadata": {},
   "outputs": [
    {
     "data": {
      "text/plain": [
       "array([[12,  2,  0],\n",
       "       [ 0, 16,  0],\n",
       "       [ 0,  0,  6]], dtype=int64)"
      ]
     },
     "execution_count": 23,
     "metadata": {},
     "output_type": "execute_result"
    }
   ],
   "source": [
    "#Random forest (Rassal oraman)\n",
    "from sklearn.ensemble import RandomForestClassifier\n",
    "rfc=RandomForestClassifier(n_estimators=73,criterion=\"entropy\")\n",
    "rfc.fit(X_train,y_train)\n",
    "Tahmin=rfc.predict(X_test)\n",
    "confusion_matrix(y_test,Tahmin)"
   ]
  },
  {
   "cell_type": "code",
   "execution_count": 24,
   "id": "e74bfb5e",
   "metadata": {},
   "outputs": [
    {
     "data": {
      "text/plain": [
       "array([[10,  2,  2],\n",
       "       [ 1, 13,  2],\n",
       "       [ 0,  0,  6]], dtype=int64)"
      ]
     },
     "execution_count": 24,
     "metadata": {},
     "output_type": "execute_result"
    }
   ],
   "source": [
    "\n",
    "rfc2=RandomForestClassifier(n_estimators=73,criterion=\"entropy\")\n",
    "rfc2.fit(X_train4,y_train)\n",
    "Tahmin=rfc2.predict(X_test4)\n",
    "confusion_matrix(y_test,Tahmin)"
   ]
  },
  {
   "cell_type": "code",
   "execution_count": 25,
   "id": "e5d03037",
   "metadata": {},
   "outputs": [],
   "source": [
    "#LDA linear Discriment Analysis\n",
    "from sklearn.discriminant_analysis import LinearDiscriminantAnalysis"
   ]
  },
  {
   "cell_type": "code",
   "execution_count": 31,
   "id": "28993f9f",
   "metadata": {},
   "outputs": [],
   "source": [
    "lda=LinearDiscriminantAnalysis(n_components=2)\n",
    "X_lda_train=lda.fit_transform(X_train,y_train)\n",
    "X_lda_test=lda.transform(X_test)"
   ]
  },
  {
   "cell_type": "code",
   "execution_count": 35,
   "id": "0a0a44b1",
   "metadata": {},
   "outputs": [
    {
     "data": {
      "text/plain": [
       "array([[13,  1,  0],\n",
       "       [ 0, 16,  0],\n",
       "       [ 0,  0,  6]], dtype=int64)"
      ]
     },
     "execution_count": 35,
     "metadata": {},
     "output_type": "execute_result"
    }
   ],
   "source": [
    "#LDA ile indirgenmiş Verilerini Modelerle deniyoruz.\n",
    "#Random Forest(Rassal Orman)\n",
    "from sklearn.ensemble import RandomForestClassifier\n",
    "rfc=RandomForestClassifier(n_estimators=73,criterion=\"entropy\")\n",
    "rfc.fit(X_train,y_train)\n",
    "Tahmin=rfc.predict(X_test)\n",
    "confusion_matrix(y_test,Tahmin)"
   ]
  },
  {
   "cell_type": "code",
   "execution_count": 34,
   "id": "e28f9c33",
   "metadata": {},
   "outputs": [
    {
     "data": {
      "text/plain": [
       "array([[ 8,  4,  2],\n",
       "       [ 0, 14,  2],\n",
       "       [ 0,  0,  6]], dtype=int64)"
      ]
     },
     "execution_count": 34,
     "metadata": {},
     "output_type": "execute_result"
    }
   ],
   "source": [
    "#Logistic versiyon\n",
    "LR=LogisticRegression(random_state=0)\n",
    "LR.fit(X_train4,y_train)\n",
    "Y_pred4=LR.predict(X_test4)\n",
    "confusion_matrix(y_test,Y_pred4)"
   ]
  },
  {
   "cell_type": "code",
   "execution_count": null,
   "id": "4491625f",
   "metadata": {},
   "outputs": [],
   "source": []
  }
 ],
 "metadata": {
  "kernelspec": {
   "display_name": "Python 3 (ipykernel)",
   "language": "python",
   "name": "python3"
  },
  "language_info": {
   "codemirror_mode": {
    "name": "ipython",
    "version": 3
   },
   "file_extension": ".py",
   "mimetype": "text/x-python",
   "name": "python",
   "nbconvert_exporter": "python",
   "pygments_lexer": "ipython3",
   "version": "3.9.7"
  }
 },
 "nbformat": 4,
 "nbformat_minor": 5
}
