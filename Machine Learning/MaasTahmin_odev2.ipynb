{
 "cells": [
  {
   "cell_type": "code",
   "execution_count": 1,
   "id": "b1025d12",
   "metadata": {},
   "outputs": [],
   "source": [
    "#kütüphaneler\n",
    "import numpy as np\n",
    "import pandas as pd\n",
    "import matplotlib.pyplot as plt"
   ]
  },
  {
   "cell_type": "code",
   "execution_count": 2,
   "id": "5b9ac133",
   "metadata": {},
   "outputs": [],
   "source": [
    "#Verileri çekiyoruz\n",
    "Data1=pd.read_excel(\"maaslar_yeni.xlsx\")"
   ]
  },
  {
   "cell_type": "code",
   "execution_count": 3,
   "id": "6982cdcb",
   "metadata": {},
   "outputs": [
    {
     "data": {
      "text/html": [
       "<div>\n",
       "<style scoped>\n",
       "    .dataframe tbody tr th:only-of-type {\n",
       "        vertical-align: middle;\n",
       "    }\n",
       "\n",
       "    .dataframe tbody tr th {\n",
       "        vertical-align: top;\n",
       "    }\n",
       "\n",
       "    .dataframe thead th {\n",
       "        text-align: right;\n",
       "    }\n",
       "</style>\n",
       "<table border=\"1\" class=\"dataframe\">\n",
       "  <thead>\n",
       "    <tr style=\"text-align: right;\">\n",
       "      <th></th>\n",
       "      <th>Calisan ID</th>\n",
       "      <th>unvan</th>\n",
       "      <th>UnvanSeviyesi</th>\n",
       "      <th>Kidem</th>\n",
       "      <th>Puan</th>\n",
       "      <th>maas</th>\n",
       "    </tr>\n",
       "  </thead>\n",
       "  <tbody>\n",
       "    <tr>\n",
       "      <th>0</th>\n",
       "      <td>1</td>\n",
       "      <td>Cayci</td>\n",
       "      <td>1</td>\n",
       "      <td>5</td>\n",
       "      <td>70</td>\n",
       "      <td>2250</td>\n",
       "    </tr>\n",
       "    <tr>\n",
       "      <th>1</th>\n",
       "      <td>2</td>\n",
       "      <td>Sekreter</td>\n",
       "      <td>2</td>\n",
       "      <td>5</td>\n",
       "      <td>70</td>\n",
       "      <td>2500</td>\n",
       "    </tr>\n",
       "    <tr>\n",
       "      <th>2</th>\n",
       "      <td>3</td>\n",
       "      <td>Uzman Yardimcisi</td>\n",
       "      <td>3</td>\n",
       "      <td>5</td>\n",
       "      <td>70</td>\n",
       "      <td>3000</td>\n",
       "    </tr>\n",
       "    <tr>\n",
       "      <th>3</th>\n",
       "      <td>4</td>\n",
       "      <td>Uzman</td>\n",
       "      <td>4</td>\n",
       "      <td>5</td>\n",
       "      <td>70</td>\n",
       "      <td>4000</td>\n",
       "    </tr>\n",
       "    <tr>\n",
       "      <th>4</th>\n",
       "      <td>5</td>\n",
       "      <td>Proje Yoneticisi</td>\n",
       "      <td>5</td>\n",
       "      <td>5</td>\n",
       "      <td>70</td>\n",
       "      <td>5500</td>\n",
       "    </tr>\n",
       "    <tr>\n",
       "      <th>5</th>\n",
       "      <td>6</td>\n",
       "      <td>Sef</td>\n",
       "      <td>6</td>\n",
       "      <td>5</td>\n",
       "      <td>70</td>\n",
       "      <td>7500</td>\n",
       "    </tr>\n",
       "    <tr>\n",
       "      <th>6</th>\n",
       "      <td>7</td>\n",
       "      <td>Mudur</td>\n",
       "      <td>7</td>\n",
       "      <td>5</td>\n",
       "      <td>70</td>\n",
       "      <td>10000</td>\n",
       "    </tr>\n",
       "    <tr>\n",
       "      <th>7</th>\n",
       "      <td>8</td>\n",
       "      <td>Direktor</td>\n",
       "      <td>8</td>\n",
       "      <td>5</td>\n",
       "      <td>70</td>\n",
       "      <td>15000</td>\n",
       "    </tr>\n",
       "    <tr>\n",
       "      <th>8</th>\n",
       "      <td>9</td>\n",
       "      <td>C-level</td>\n",
       "      <td>9</td>\n",
       "      <td>5</td>\n",
       "      <td>70</td>\n",
       "      <td>25000</td>\n",
       "    </tr>\n",
       "    <tr>\n",
       "      <th>9</th>\n",
       "      <td>10</td>\n",
       "      <td>CEO</td>\n",
       "      <td>10</td>\n",
       "      <td>5</td>\n",
       "      <td>70</td>\n",
       "      <td>50000</td>\n",
       "    </tr>\n",
       "    <tr>\n",
       "      <th>10</th>\n",
       "      <td>11</td>\n",
       "      <td>Cayci</td>\n",
       "      <td>1</td>\n",
       "      <td>7</td>\n",
       "      <td>99</td>\n",
       "      <td>2000</td>\n",
       "    </tr>\n",
       "    <tr>\n",
       "      <th>11</th>\n",
       "      <td>12</td>\n",
       "      <td>Sekreter</td>\n",
       "      <td>2</td>\n",
       "      <td>7</td>\n",
       "      <td>9</td>\n",
       "      <td>2500</td>\n",
       "    </tr>\n",
       "    <tr>\n",
       "      <th>12</th>\n",
       "      <td>13</td>\n",
       "      <td>Uzman Yardimcisi</td>\n",
       "      <td>3</td>\n",
       "      <td>7</td>\n",
       "      <td>62</td>\n",
       "      <td>4000</td>\n",
       "    </tr>\n",
       "    <tr>\n",
       "      <th>13</th>\n",
       "      <td>14</td>\n",
       "      <td>Uzman</td>\n",
       "      <td>4</td>\n",
       "      <td>4</td>\n",
       "      <td>38</td>\n",
       "      <td>3000</td>\n",
       "    </tr>\n",
       "    <tr>\n",
       "      <th>14</th>\n",
       "      <td>15</td>\n",
       "      <td>Proje Yoneticisi</td>\n",
       "      <td>5</td>\n",
       "      <td>1</td>\n",
       "      <td>80</td>\n",
       "      <td>5000</td>\n",
       "    </tr>\n",
       "    <tr>\n",
       "      <th>15</th>\n",
       "      <td>16</td>\n",
       "      <td>Sef</td>\n",
       "      <td>6</td>\n",
       "      <td>2</td>\n",
       "      <td>35</td>\n",
       "      <td>5000</td>\n",
       "    </tr>\n",
       "    <tr>\n",
       "      <th>16</th>\n",
       "      <td>17</td>\n",
       "      <td>Mudur</td>\n",
       "      <td>7</td>\n",
       "      <td>8</td>\n",
       "      <td>99</td>\n",
       "      <td>12000</td>\n",
       "    </tr>\n",
       "    <tr>\n",
       "      <th>17</th>\n",
       "      <td>18</td>\n",
       "      <td>Direktor</td>\n",
       "      <td>8</td>\n",
       "      <td>4</td>\n",
       "      <td>58</td>\n",
       "      <td>11000</td>\n",
       "    </tr>\n",
       "    <tr>\n",
       "      <th>18</th>\n",
       "      <td>19</td>\n",
       "      <td>C-level</td>\n",
       "      <td>9</td>\n",
       "      <td>2</td>\n",
       "      <td>20</td>\n",
       "      <td>15000</td>\n",
       "    </tr>\n",
       "    <tr>\n",
       "      <th>19</th>\n",
       "      <td>20</td>\n",
       "      <td>CEO</td>\n",
       "      <td>10</td>\n",
       "      <td>4</td>\n",
       "      <td>42</td>\n",
       "      <td>22000</td>\n",
       "    </tr>\n",
       "    <tr>\n",
       "      <th>20</th>\n",
       "      <td>21</td>\n",
       "      <td>Cayci</td>\n",
       "      <td>1</td>\n",
       "      <td>8</td>\n",
       "      <td>11</td>\n",
       "      <td>2200</td>\n",
       "    </tr>\n",
       "    <tr>\n",
       "      <th>21</th>\n",
       "      <td>22</td>\n",
       "      <td>Sekreter</td>\n",
       "      <td>2</td>\n",
       "      <td>2</td>\n",
       "      <td>53</td>\n",
       "      <td>2200</td>\n",
       "    </tr>\n",
       "    <tr>\n",
       "      <th>22</th>\n",
       "      <td>23</td>\n",
       "      <td>Uzman Yardimcisi</td>\n",
       "      <td>3</td>\n",
       "      <td>8</td>\n",
       "      <td>50</td>\n",
       "      <td>2800</td>\n",
       "    </tr>\n",
       "    <tr>\n",
       "      <th>23</th>\n",
       "      <td>24</td>\n",
       "      <td>Uzman</td>\n",
       "      <td>4</td>\n",
       "      <td>9</td>\n",
       "      <td>91</td>\n",
       "      <td>6000</td>\n",
       "    </tr>\n",
       "    <tr>\n",
       "      <th>24</th>\n",
       "      <td>25</td>\n",
       "      <td>Proje Yoneticisi</td>\n",
       "      <td>5</td>\n",
       "      <td>9</td>\n",
       "      <td>71</td>\n",
       "      <td>5400</td>\n",
       "    </tr>\n",
       "    <tr>\n",
       "      <th>25</th>\n",
       "      <td>26</td>\n",
       "      <td>Sef</td>\n",
       "      <td>6</td>\n",
       "      <td>1</td>\n",
       "      <td>2</td>\n",
       "      <td>4000</td>\n",
       "    </tr>\n",
       "    <tr>\n",
       "      <th>26</th>\n",
       "      <td>27</td>\n",
       "      <td>Mudur</td>\n",
       "      <td>7</td>\n",
       "      <td>10</td>\n",
       "      <td>81</td>\n",
       "      <td>12000</td>\n",
       "    </tr>\n",
       "    <tr>\n",
       "      <th>27</th>\n",
       "      <td>28</td>\n",
       "      <td>Direktor</td>\n",
       "      <td>8</td>\n",
       "      <td>10</td>\n",
       "      <td>38</td>\n",
       "      <td>10000</td>\n",
       "    </tr>\n",
       "    <tr>\n",
       "      <th>28</th>\n",
       "      <td>29</td>\n",
       "      <td>C-level</td>\n",
       "      <td>9</td>\n",
       "      <td>1</td>\n",
       "      <td>50</td>\n",
       "      <td>15000</td>\n",
       "    </tr>\n",
       "    <tr>\n",
       "      <th>29</th>\n",
       "      <td>30</td>\n",
       "      <td>CEO</td>\n",
       "      <td>10</td>\n",
       "      <td>9</td>\n",
       "      <td>83</td>\n",
       "      <td>60000</td>\n",
       "    </tr>\n",
       "  </tbody>\n",
       "</table>\n",
       "</div>"
      ],
      "text/plain": [
       "    Calisan ID             unvan  UnvanSeviyesi  Kidem  Puan   maas\n",
       "0            1             Cayci              1      5    70   2250\n",
       "1            2          Sekreter              2      5    70   2500\n",
       "2            3  Uzman Yardimcisi              3      5    70   3000\n",
       "3            4             Uzman              4      5    70   4000\n",
       "4            5  Proje Yoneticisi              5      5    70   5500\n",
       "5            6               Sef              6      5    70   7500\n",
       "6            7             Mudur              7      5    70  10000\n",
       "7            8          Direktor              8      5    70  15000\n",
       "8            9           C-level              9      5    70  25000\n",
       "9           10               CEO             10      5    70  50000\n",
       "10          11             Cayci              1      7    99   2000\n",
       "11          12          Sekreter              2      7     9   2500\n",
       "12          13  Uzman Yardimcisi              3      7    62   4000\n",
       "13          14             Uzman              4      4    38   3000\n",
       "14          15  Proje Yoneticisi              5      1    80   5000\n",
       "15          16               Sef              6      2    35   5000\n",
       "16          17             Mudur              7      8    99  12000\n",
       "17          18          Direktor              8      4    58  11000\n",
       "18          19           C-level              9      2    20  15000\n",
       "19          20               CEO             10      4    42  22000\n",
       "20          21             Cayci              1      8    11   2200\n",
       "21          22          Sekreter              2      2    53   2200\n",
       "22          23  Uzman Yardimcisi              3      8    50   2800\n",
       "23          24             Uzman              4      9    91   6000\n",
       "24          25  Proje Yoneticisi              5      9    71   5400\n",
       "25          26               Sef              6      1     2   4000\n",
       "26          27             Mudur              7     10    81  12000\n",
       "27          28          Direktor              8     10    38  10000\n",
       "28          29           C-level              9      1    50  15000\n",
       "29          30               CEO             10      9    83  60000"
      ]
     },
     "execution_count": 3,
     "metadata": {},
     "output_type": "execute_result"
    }
   ],
   "source": [
    "Data1"
   ]
  },
  {
   "cell_type": "code",
   "execution_count": 4,
   "id": "e79bbbdc",
   "metadata": {},
   "outputs": [],
   "source": [
    "#Datayı öğrenilecek kolonlar ve sonuc kolonunu ayiriyoruz\n",
    "X=Data1.iloc[:,2:5].values\n",
    "Y=Data1.iloc[:,5].values\n",
    "Hepsi=Data1.iloc[:,2:6]"
   ]
  },
  {
   "cell_type": "code",
   "execution_count": 5,
   "id": "dc06c7bd",
   "metadata": {},
   "outputs": [],
   "source": [
    "#Makinenin daha iyi ögrenmesi için verileri eliyerek en iyisini buluyoruz\n",
    "import statsmodels.api as ms"
   ]
  },
  {
   "cell_type": "code",
   "execution_count": 12,
   "id": "f2c870b3",
   "metadata": {},
   "outputs": [],
   "source": [
    "X=np.append(arr=np.ones((30,1)).astype(int),values=Hepsi,axis=1)\n",
    "X_l=Hepsi.iloc[:,[0]].values\n",
    "X_l=np.array(X_l,dtype=float)\n",
    "model=ms.OLS(Y,X_l).fit()"
   ]
  },
  {
   "cell_type": "code",
   "execution_count": 13,
   "id": "10710b1a",
   "metadata": {},
   "outputs": [
    {
     "data": {
      "text/html": [
       "<table class=\"simpletable\">\n",
       "<caption>OLS Regression Results</caption>\n",
       "<tr>\n",
       "  <th>Dep. Variable:</th>            <td>y</td>        <th>  R-squared (uncentered):</th>      <td>   0.676</td>\n",
       "</tr>\n",
       "<tr>\n",
       "  <th>Model:</th>                   <td>OLS</td>       <th>  Adj. R-squared (uncentered):</th> <td>   0.665</td>\n",
       "</tr>\n",
       "<tr>\n",
       "  <th>Method:</th>             <td>Least Squares</td>  <th>  F-statistic:       </th>          <td>   60.59</td>\n",
       "</tr>\n",
       "<tr>\n",
       "  <th>Date:</th>             <td>Mon, 07 Mar 2022</td> <th>  Prob (F-statistic):</th>          <td>1.39e-08</td>\n",
       "</tr>\n",
       "<tr>\n",
       "  <th>Time:</th>                 <td>01:55:33</td>     <th>  Log-Likelihood:    </th>          <td> -318.10</td>\n",
       "</tr>\n",
       "<tr>\n",
       "  <th>No. Observations:</th>      <td>    30</td>      <th>  AIC:               </th>          <td>   638.2</td>\n",
       "</tr>\n",
       "<tr>\n",
       "  <th>Df Residuals:</th>          <td>    29</td>      <th>  BIC:               </th>          <td>   639.6</td>\n",
       "</tr>\n",
       "<tr>\n",
       "  <th>Df Model:</th>              <td>     1</td>      <th>                     </th>              <td> </td>   \n",
       "</tr>\n",
       "<tr>\n",
       "  <th>Covariance Type:</th>      <td>nonrobust</td>    <th>                     </th>              <td> </td>   \n",
       "</tr>\n",
       "</table>\n",
       "<table class=\"simpletable\">\n",
       "<tr>\n",
       "   <td></td>     <th>coef</th>     <th>std err</th>      <th>t</th>      <th>P>|t|</th>  <th>[0.025</th>    <th>0.975]</th>  \n",
       "</tr>\n",
       "<tr>\n",
       "  <th>x1</th> <td> 2269.9134</td> <td>  291.626</td> <td>    7.784</td> <td> 0.000</td> <td> 1673.472</td> <td> 2866.355</td>\n",
       "</tr>\n",
       "</table>\n",
       "<table class=\"simpletable\">\n",
       "<tr>\n",
       "  <th>Omnibus:</th>       <td>42.594</td> <th>  Durbin-Watson:     </th> <td>   1.175</td>\n",
       "</tr>\n",
       "<tr>\n",
       "  <th>Prob(Omnibus):</th> <td> 0.000</td> <th>  Jarque-Bera (JB):  </th> <td> 142.872</td>\n",
       "</tr>\n",
       "<tr>\n",
       "  <th>Skew:</th>          <td> 3.058</td> <th>  Prob(JB):          </th> <td>9.46e-32</td>\n",
       "</tr>\n",
       "<tr>\n",
       "  <th>Kurtosis:</th>      <td>11.768</td> <th>  Cond. No.          </th> <td>    1.00</td>\n",
       "</tr>\n",
       "</table><br/><br/>Notes:<br/>[1] R² is computed without centering (uncentered) since the model does not contain a constant.<br/>[2] Standard Errors assume that the covariance matrix of the errors is correctly specified."
      ],
      "text/plain": [
       "<class 'statsmodels.iolib.summary.Summary'>\n",
       "\"\"\"\n",
       "                                 OLS Regression Results                                \n",
       "=======================================================================================\n",
       "Dep. Variable:                      y   R-squared (uncentered):                   0.676\n",
       "Model:                            OLS   Adj. R-squared (uncentered):              0.665\n",
       "Method:                 Least Squares   F-statistic:                              60.59\n",
       "Date:                Mon, 07 Mar 2022   Prob (F-statistic):                    1.39e-08\n",
       "Time:                        01:55:33   Log-Likelihood:                         -318.10\n",
       "No. Observations:                  30   AIC:                                      638.2\n",
       "Df Residuals:                      29   BIC:                                      639.6\n",
       "Df Model:                           1                                                  \n",
       "Covariance Type:            nonrobust                                                  \n",
       "==============================================================================\n",
       "                 coef    std err          t      P>|t|      [0.025      0.975]\n",
       "------------------------------------------------------------------------------\n",
       "x1          2269.9134    291.626      7.784      0.000    1673.472    2866.355\n",
       "==============================================================================\n",
       "Omnibus:                       42.594   Durbin-Watson:                   1.175\n",
       "Prob(Omnibus):                  0.000   Jarque-Bera (JB):              142.872\n",
       "Skew:                           3.058   Prob(JB):                     9.46e-32\n",
       "Kurtosis:                      11.768   Cond. No.                         1.00\n",
       "==============================================================================\n",
       "\n",
       "Notes:\n",
       "[1] R² is computed without centering (uncentered) since the model does not contain a constant.\n",
       "[2] Standard Errors assume that the covariance matrix of the errors is correctly specified.\n",
       "\"\"\""
      ]
     },
     "execution_count": 13,
     "metadata": {},
     "output_type": "execute_result"
    }
   ],
   "source": [
    "model.summary()"
   ]
  },
  {
   "cell_type": "code",
   "execution_count": 31,
   "id": "5c3a3ca7",
   "metadata": {},
   "outputs": [],
   "source": [
    "train=Hepsi.iloc[:,0:3].values"
   ]
  },
  {
   "cell_type": "code",
   "execution_count": 32,
   "id": "aea0db78",
   "metadata": {},
   "outputs": [
    {
     "data": {
      "text/plain": [
       "array([[ 1,  5, 70],\n",
       "       [ 2,  5, 70],\n",
       "       [ 3,  5, 70],\n",
       "       [ 4,  5, 70],\n",
       "       [ 5,  5, 70],\n",
       "       [ 6,  5, 70],\n",
       "       [ 7,  5, 70],\n",
       "       [ 8,  5, 70],\n",
       "       [ 9,  5, 70],\n",
       "       [10,  5, 70],\n",
       "       [ 1,  7, 99],\n",
       "       [ 2,  7,  9],\n",
       "       [ 3,  7, 62],\n",
       "       [ 4,  4, 38],\n",
       "       [ 5,  1, 80],\n",
       "       [ 6,  2, 35],\n",
       "       [ 7,  8, 99],\n",
       "       [ 8,  4, 58],\n",
       "       [ 9,  2, 20],\n",
       "       [10,  4, 42],\n",
       "       [ 1,  8, 11],\n",
       "       [ 2,  2, 53],\n",
       "       [ 3,  8, 50],\n",
       "       [ 4,  9, 91],\n",
       "       [ 5,  9, 71],\n",
       "       [ 6,  1,  2],\n",
       "       [ 7, 10, 81],\n",
       "       [ 8, 10, 38],\n",
       "       [ 9,  1, 50],\n",
       "       [10,  9, 83]], dtype=int64)"
      ]
     },
     "execution_count": 32,
     "metadata": {},
     "output_type": "execute_result"
    }
   ],
   "source": [
    "train"
   ]
  },
  {
   "cell_type": "code",
   "execution_count": 33,
   "id": "a65539c4",
   "metadata": {},
   "outputs": [],
   "source": [
    "#Verileri train verileri ve test verileri olarak ayiriyoruz\n",
    "from sklearn.model_selection import train_test_split"
   ]
  },
  {
   "cell_type": "code",
   "execution_count": 34,
   "id": "8da882e8",
   "metadata": {},
   "outputs": [],
   "source": [
    "x_train,x_test,y_train,y_test=train_test_split(train,Y,test_size=0.20,random_state=0)"
   ]
  },
  {
   "cell_type": "code",
   "execution_count": 35,
   "id": "9defc401",
   "metadata": {},
   "outputs": [
    {
     "data": {
      "text/plain": [
       "array([10000,  2500, 11000,  2800,  7500, 12000, 25000,  5000,  6000,\n",
       "        2200,  2500, 60000, 10000,  5500, 15000, 22000, 50000, 15000,\n",
       "        4000,  4000,  2250,  2200,  5000,  4000], dtype=int64)"
      ]
     },
     "execution_count": 35,
     "metadata": {},
     "output_type": "execute_result"
    }
   ],
   "source": [
    "y_train"
   ]
  },
  {
   "cell_type": "code",
   "execution_count": 48,
   "id": "4cc74d38",
   "metadata": {},
   "outputs": [],
   "source": [
    "#linear \n",
    "from sklearn.linear_model import LinearRegression"
   ]
  },
  {
   "cell_type": "code",
   "execution_count": 49,
   "id": "e94c96b7",
   "metadata": {},
   "outputs": [
    {
     "data": {
      "text/plain": [
       "array([ 2746.95120021, 18232.52805531,  3072.51397169,  -157.82197644,\n",
       "       24056.49623584, 14954.81791349])"
      ]
     },
     "execution_count": 49,
     "metadata": {},
     "output_type": "execute_result"
    }
   ],
   "source": [
    "lin_reg=LinearRegression()\n",
    "lin_reg.fit(x_train,y_train)\n",
    "lin_reg.predict(x_test)"
   ]
  },
  {
   "cell_type": "code",
   "execution_count": 50,
   "id": "de8984fa",
   "metadata": {},
   "outputs": [],
   "source": [
    "#poly\n",
    "from sklearn.preprocessing import PolynomialFeatures"
   ]
  },
  {
   "cell_type": "code",
   "execution_count": 51,
   "id": "9ba7d4f1",
   "metadata": {},
   "outputs": [
    {
     "data": {
      "text/plain": [
       "array([  2881.48524924,  24173.42802073,  19679.38774839, 161904.07199495,\n",
       "       -55124.65796391, -38899.74112773])"
      ]
     },
     "execution_count": 51,
     "metadata": {},
     "output_type": "execute_result"
    }
   ],
   "source": [
    "lin_poly=PolynomialFeatures(degree=4)\n",
    "Xpoly=lin_poly.fit_transform(x_train)\n",
    "lin_reg2=LinearRegression()\n",
    "lin_reg2.fit(Xpoly,y_train)\n",
    "lin_reg2.predict(lin_poly.fit_transform(x_test))"
   ]
  },
  {
   "cell_type": "code",
   "execution_count": 52,
   "id": "2b1928d1",
   "metadata": {},
   "outputs": [],
   "source": [
    "#SVR(\"rbf\")\n",
    "from sklearn.svm import SVR\n",
    "from sklearn.preprocessing import StandardScaler"
   ]
  },
  {
   "cell_type": "code",
   "execution_count": 77,
   "id": "f4ede7cb",
   "metadata": {},
   "outputs": [
    {
     "data": {
      "text/plain": [
       "array([5746.84591807, 5751.41708245, 5748.08898826, 5748.01180442,\n",
       "       5753.45485138, 5750.97439184])"
      ]
     },
     "execution_count": 77,
     "metadata": {},
     "output_type": "execute_result"
    }
   ],
   "source": [
    "x_scaler=StandardScaler().fit_transform(x_train)\n",
    "x_tescaler=StandardScaler().fit_transform(x_test)\n",
    "svr=SVR(kernel=\"rbf\")\n",
    "svr.fit(x_scaler,y_train)\n",
    "svr.predict(StandardScaler().fit_transform(x_test))"
   ]
  },
  {
   "cell_type": "code",
   "execution_count": 68,
   "id": "c3707def",
   "metadata": {},
   "outputs": [],
   "source": [
    "#tree\n",
    "from sklearn.tree import DecisionTreeRegressor"
   ]
  },
  {
   "cell_type": "code",
   "execution_count": 69,
   "id": "d7c23696",
   "metadata": {},
   "outputs": [
    {
     "data": {
      "text/plain": [
       "array([ 4000., 15000.,  4000.,  2250., 10000.,  5500.])"
      ]
     },
     "execution_count": 69,
     "metadata": {},
     "output_type": "execute_result"
    }
   ],
   "source": [
    "tree=DecisionTreeRegressor(random_state=0)\n",
    "tree.fit(x_train,y_train)\n",
    "tree.predict(x_test)"
   ]
  },
  {
   "cell_type": "code",
   "execution_count": 70,
   "id": "50e802d8",
   "metadata": {},
   "outputs": [],
   "source": [
    "#rassal\n",
    "from sklearn.ensemble import RandomForestRegressor"
   ]
  },
  {
   "cell_type": "code",
   "execution_count": 71,
   "id": "eb3bf6ee",
   "metadata": {},
   "outputs": [
    {
     "data": {
      "text/plain": [
       "array([ 3683.75, 16975.  ,  4332.5 ,  2546.25, 11575.  ,  7020.  ])"
      ]
     },
     "execution_count": 71,
     "metadata": {},
     "output_type": "execute_result"
    }
   ],
   "source": [
    "rassal=RandomForestRegressor(n_estimators=40,random_state=0)\n",
    "rassal.fit(x_train,y_train)\n",
    "rassal.predict(x_test)"
   ]
  },
  {
   "cell_type": "code",
   "execution_count": 72,
   "id": "f86980c6",
   "metadata": {},
   "outputs": [],
   "source": [
    "#r2 score ile kontrol ediyoruz\n",
    "from sklearn.metrics import r2_score"
   ]
  },
  {
   "cell_type": "code",
   "execution_count": 73,
   "id": "6d912b84",
   "metadata": {},
   "outputs": [
    {
     "name": "stdout",
     "output_type": "stream",
     "text": [
      "Linear kontrol\n"
     ]
    },
    {
     "data": {
      "text/plain": [
       "-0.7000115130043334"
      ]
     },
     "execution_count": 73,
     "metadata": {},
     "output_type": "execute_result"
    }
   ],
   "source": [
    "print(\"Linear kontrol\")\n",
    "r2_score(y_test,lin_reg.predict(x_test))"
   ]
  },
  {
   "cell_type": "code",
   "execution_count": 74,
   "id": "9ef77316",
   "metadata": {},
   "outputs": [
    {
     "name": "stdout",
     "output_type": "stream",
     "text": [
      "poly kontrol\n"
     ]
    },
    {
     "data": {
      "text/plain": [
       "-217.72097309437473"
      ]
     },
     "execution_count": 74,
     "metadata": {},
     "output_type": "execute_result"
    }
   ],
   "source": [
    "print(\"poly kontrol\")\n",
    "r2_score(y_test,lin_reg2.predict(lin_poly.fit_transform(x_test)))"
   ]
  },
  {
   "cell_type": "code",
   "execution_count": 79,
   "id": "2ee99a7e",
   "metadata": {},
   "outputs": [
    {
     "name": "stdout",
     "output_type": "stream",
     "text": [
      "svr kontrol\n"
     ]
    },
    {
     "data": {
      "text/plain": [
       "-0.03918654653208398"
      ]
     },
     "execution_count": 79,
     "metadata": {},
     "output_type": "execute_result"
    }
   ],
   "source": [
    "print(\"svr kontrol\")\n",
    "r2_score(y_test,svr.predict(x_test))"
   ]
  },
  {
   "cell_type": "code",
   "execution_count": 80,
   "id": "5979502c",
   "metadata": {},
   "outputs": [
    {
     "name": "stdout",
     "output_type": "stream",
     "text": [
      "tree kontrol\n"
     ]
    },
    {
     "data": {
      "text/plain": [
       "0.9590065256525653"
      ]
     },
     "execution_count": 80,
     "metadata": {},
     "output_type": "execute_result"
    }
   ],
   "source": [
    "print(\"tree kontrol\")\n",
    "r2_score(y_test,tree.predict(x_test))"
   ]
  },
  {
   "cell_type": "code",
   "execution_count": 81,
   "id": "c72d20cc",
   "metadata": {},
   "outputs": [
    {
     "name": "stdout",
     "output_type": "stream",
     "text": [
      "rassal kontrol\n"
     ]
    },
    {
     "data": {
      "text/plain": [
       "0.9375757692956795"
      ]
     },
     "execution_count": 81,
     "metadata": {},
     "output_type": "execute_result"
    }
   ],
   "source": [
    "print(\"rassal kontrol\")\n",
    "r2_score(y_test,rassal.predict(x_test))"
   ]
  },
  {
   "cell_type": "code",
   "execution_count": 82,
   "id": "125db6af",
   "metadata": {},
   "outputs": [
    {
     "data": {
      "text/plain": [
       "array([[ 3,  5, 70],\n",
       "       [ 9,  1, 50],\n",
       "       [ 4,  4, 38],\n",
       "       [ 1,  7, 99],\n",
       "       [ 7, 10, 81],\n",
       "       [ 5,  9, 71]], dtype=int64)"
      ]
     },
     "execution_count": 82,
     "metadata": {},
     "output_type": "execute_result"
    }
   ],
   "source": [
    "x_test"
   ]
  },
  {
   "cell_type": "code",
   "execution_count": null,
   "id": "f826488b",
   "metadata": {},
   "outputs": [],
   "source": []
  }
 ],
 "metadata": {
  "kernelspec": {
   "display_name": "Python 3 (ipykernel)",
   "language": "python",
   "name": "python3"
  },
  "language_info": {
   "codemirror_mode": {
    "name": "ipython",
    "version": 3
   },
   "file_extension": ".py",
   "mimetype": "text/x-python",
   "name": "python",
   "nbconvert_exporter": "python",
   "pygments_lexer": "ipython3",
   "version": "3.9.7"
  }
 },
 "nbformat": 4,
 "nbformat_minor": 5
}
